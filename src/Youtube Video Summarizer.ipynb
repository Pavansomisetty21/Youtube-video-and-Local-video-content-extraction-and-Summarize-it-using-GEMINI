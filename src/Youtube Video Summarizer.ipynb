{
 "cells": [
  {
   "cell_type": "code",
   "execution_count": 30,
   "id": "a0fdd94b-66be-4385-8f2a-fa7469e955fa",
   "metadata": {},
   "outputs": [
    {
     "name": "stdout",
     "output_type": "stream",
     "text": [
      "Transcript:\n",
      "Sund thank you so much for having me  it's an absolute honor to be here I've  seen so many Keynotes of yours right  like through the screen and it's a  fanboy moment for me to be here you know  with you right across me and let me just  get started right I think somebody here  mentioned that this is AI Coachella and  it felt like AI Coachella Madness right  so many new things uh that came out the  engineer and the Creator in me is super  excited but I come from India and I feel  like you know it feels like this is an  AI race and Silicon Valley is like  moving really fast I feel you're sort of  getting left behind if you were an  engineer back home in India or you were  an entrepreneur there what would you do  to keep up well first of all uh good to  talk to you Aron and congrats on uh a  great Channel and the work you do look I  I see it a bit differently when I think  about AI even as Google thinks about AI  for us now India is one of our top  markets right we have both for many of  our products um it's it's our largest  user base we have large teams in India  so we've been thinking about AI in the  context of India the second is unlike  past Technologies the underlying apis  for AI are available everywhere  including India and I so I see  developers already using it so I think  India is a well  positioned I think in terms of me I  would what AI offers is for anyone to  use it and solve build applications and  solve problems so I think to me for  India this is a moment India has an  extraordinary base of developers  engineering Talent so for them to  understand this trend and build  applications in a way that makes sense  either for India or for the world from  India I think both are exciting  possibilities so I would I would view it  that way from from a Google perspective  I'm excited because one of the things we  are doing with AI is really breaking  barriers I think the fact that all our  new models are multimodal so they can  reason across text images  video so which means the way it'll come  to India is you could be watching any  video you want in any language even if  that content was not didn't exist in  your language  or people who can just look at things  and ask questions so that is the future  so if anything I I viewed as part of  continuing to help digital India you  know getting more and more people there  comfortable with technology and giving  them access to technology so I think  it's huge and you were talking about  software Engineers right like I don't  know if you know this but there's an  entire industry in India built to help  young Indians crack the Fang interview  and you know these are generally very  smart kids but unfortunately you know  they're just glazing over the  fundamentals and then root learning data  structures and algorithms I don't know  if you've heard of this uh and now they  see a big shift coming right Gemini can  write code you have you'll have a pair  programmer available pretty quickly uh  do you have advice for these people how  how is it how do you get out of the  competitive exam mindset with all these  shifts coming about I think it's a great  question uh I hope I think real success  comes from understanding things in a  deeper way right and and and uh almost  tempted to go back to the movie Three  Idiots or something like that and like  you know there's a scene in there I  think when they ask Amir Khan the  definition of a motor and like you know  there is a there's a version you just  describe what a motor is and there's a  version where you actually understand  what a motor is so I view it's the same  way it quite doesn't change you have  to you know understand the technology in  a deeper way if you do you can  transition you can do do things  programming languages may change the  tools you use May evolve but you're  understanding the stack in a much deeper  way so that's what I would encourage  people to do  always uh programming is going to get  easier in a way that's better right you  know all of us are already thankful we  don't have to write an assembly code or  you know you know we are we used to  higher level  abstractions AI will help with even  higher level abstractions you're going  to use natural language you're going to  tell sometime hey can you just debug  this code for me and explain what  happened and it'll do it just going to  make you a better programmer so I think  it's more important to you know go  deeper rather than trying to like learn  the thing of that moment yeah  interesting and you know I don't know if  you spent time on Twitter like recently  but a lot of people you know there's a  word for startups being built on top of  models like Gemini right uh it's kind of  derogatory in nature uh it's called a  rapper startup youve heard of rapper  startups right you have thoughts on that  like I feel like there if if you build  for use cases it should be commercially  viable but would love to hear it from  you there are going to be apis and  people are going to use  apis I think that is the way things will  get build so you know it's not bad to be  a wrapper just you shouldn't be a  shallow  wrapper where I think you have to think  about where the models are going and  make sure youen doing something which  just in the next version of the model  will be done natively by the model  itself got it that will have a short  shelf  life but if you're using AI to solve a  real world use  case in a way which which involves a few  more things you're doing or chaining  multiple model model chaining multiple  models you know you have to think about  the value you're adding on top of the  model in whatever way chaining multiple  things together and also thinking about  the forward curve of the models and make  sure the models just aren't going to do  that so I think it's a combination of  both of them yeah that's that's actually  a very profound way to look at it right  like the value on top of the model is  what people will eventually pay for I  started a company this year it was  called AOS and we're sort of like we  were looking for problem statements  right we said models are going to be  dime or dozen some are going to be open  source and you've actually contributed  to open source quite a bit right uh and  one of the things we realized and I  don't know who to attribute this score  to but hallucination seems to be a bug  for things for tasks that require  accuracy yeah but it seems to be a  feature for Creative Endeavors and so  slowly we found that even our client  base uh sort of they wanted us to help  them with creative Endeavors have you  seen more Enterprise adoption by  creative  companies very much so right I think  particularly as people are thinking  about like take marketing campaigns for  example we have good projects underway  with like creative agencies advertising  agencies where they actually want to  push the frontier you know there are two  ways you can imagine using it using it  to just kind of take the mundane tasks  and make it  easier but there are also people who  want these models to come up with things  which otherwise they wouldn't have done  and there you're exactly right I think  Hallucination is a feature not a bug  right and uh and that's the way I would  think about these models uh for that  purpose and if you go back to the alphao  game there was a moment in which the  model moved 37 I think yeah when it made  that move which no human prior to it had  done before right it was a creative  intuitive way of uh playing the Go game  and that's what you hope these models  will do because they they think in an  unconstrained way so Google got into a  little bit of trouble recently with um  you were generating historical  characters with some racial  inaccuracies now  I feel like typically that should have  stopped a company like Google or at  least really slowed it down and it  definitely has slowed down some of your  competitors and no longer shipping like  publicly usable products but I feel it's  not stopped you this time and I feel um  today everyone on the Internet is a  Critic like even if you do your best  work and you really put intent behind it  and you're being transparent about  everything people are complaining do you  feel like just the number of people  complaining on the internet has gone up  and that's also given you air cover to  to ship boldly me we spoke about it last  year at Google IO we we fra you know we  encapsulated as being bold and  responsible and I think you know with a  technology like that which is developing  fast but it's still immature you have to  ride the curve where you're  pushing but you also be as responsible  but there is some tradeoff and you're  trying to find that optimal point but I  think there's a lot of user excitement  so that's what is guiding us to say  people people are ready for it right and  and you know we are rolling out AI  overviews in search people are really  embracing it and responding to it so I  think I think you people are finding it  helpful so that gives us the confidence  that we are in the right direction and  so which is why you see is moving fast  but there'll be moments you know when we  feel okay maybe this technology you know  it's important to spend more time  getting this right so we'll balance it  but on the balance here we moving boldly  yeah I'm very long-term bullish on  Google I think llms I mean a lot of this  is going to get commoditized but uh you  own the means to distribution YouTube  Chrome Android so thank you so much for  doing all you do and like I said it's  been an honor well likewise on greatly  enjoyed it thanks  [Music]  food in India what's your favorite food  well it's Bangalore uh I will probably  get a Dosa uh it's my favorite food if  it is Delhi a choli butra and if it's  Mumbai I'll do a paji nice all right  thank you so much\n"
     ]
    }
   ],
   "source": [
    "import requests\n",
    "from youtube_transcript_api import YouTubeTranscriptApi\n",
    "\n",
    "# Function to get transcript from a YouTube video\n",
    "def get_transcript(yt_url):\n",
    "    try:\n",
    "        video_id = yt_url.split(\"v=\")[-1].split(\"&\")[0]\n",
    "        transcript_list = YouTubeTranscriptApi.list_transcripts(video_id)\n",
    "    except Exception as e:\n",
    "        print(f\"Error fetching transcript list for video ID {video_id}: {e}\")\n",
    "        return \"\"\n",
    "    \n",
    "    try:\n",
    "        # Find manually created transcript if available\n",
    "        transcript = transcript_list.find_manually_created_transcript()\n",
    "    except Exception:\n",
    "        try:\n",
    "            # Find generated transcripts\n",
    "            generated_transcripts = [trans for trans in transcript_list if trans.is_generated]\n",
    "            if not generated_transcripts:\n",
    "                print(\"No generated transcripts available.\")\n",
    "                return \"\"\n",
    "            transcript = generated_transcripts[0]\n",
    "        except Exception as e:\n",
    "            print(f\"No suitable transcript found: {e}\")\n",
    "            return \"\"\n",
    "    \n",
    "    try:\n",
    "        # Fetch the English translation of the transcript\n",
    "        english_transcript = transcript.translate('en')\n",
    "        transcript_for_translation = \" \".join([part['text'] for part in english_transcript.fetch()])\n",
    "    except Exception as e:\n",
    "        print(f\"Error fetching English translated transcript text: {e}\")\n",
    "        return \"\"\n",
    "    \n",
    "    return transcript_for_translation\n",
    "    \n",
    "# Example usage\n",
    "\n",
    "# Specify the YouTube URL\n",
    "yt_url = \"https://www.youtube.com/watch?v=8sxAcYnZFAk&t=13s\"  # Replace with the actual YouTube URL\n",
    "\n",
    "\n",
    "# Get the transcript\n",
    "transcript = get_transcript(yt_url)\n",
    "print(f\"Transcript:\\n{transcript}\")\n"
   ]
  },
  {
   "cell_type": "code",
   "execution_count": 31,
   "id": "0855a927-148a-4da4-a945-bdbb0715a24e",
   "metadata": {},
   "outputs": [
    {
     "name": "stdout",
     "output_type": "stream",
     "text": [
      "Sundar Pichai, Google CEO, discusses the potential of AI in India, emphasizing the country's large developer base and the accessibility of AI tools. He highlights the importance of understanding AI in depth, comparing it to a deep understanding of a motor rather than just a surface-level definition. Pichai acknowledges the rise of \"wrapper\" startups that utilize AI models for specific purposes, but cautions against relying on shallow applications that could be rendered obsolete by future model advancements. He advocates for using AI to solve real-world problems and creating genuine value. He also acknowledges the challenges of AI's inherent creativity and potential for inaccuracies, drawing a parallel to the \"hallucination\" feature of AI models in creative tasks.  Pichai defends Google's bold approach to AI, stating that user excitement and the positive reception of AI features in Google's products justify the company's continued development. He reiterates the importance of responsible AI development, acknowledging the need for balance between innovation and safety.  Finally, Pichai expresses his optimism about Google's long-term position in the AI landscape, citing the company's control over distribution channels like YouTube, Chrome, and Android. \n",
      "\n"
     ]
    }
   ],
   "source": [
    "import google.generativeai as genai\n",
    "import os\n",
    "os.environ[\"GOOGLE_API_KEY\"] = \"your gemini api key\"\n",
    "genai.configure(api_key=os.environ[\"GOOGLE_API_KEY\"])\n",
    "\n",
    "model = genai.GenerativeModel('gemini-1.5-flash')\n",
    "response = model.generate_content(f'Generate a precise summary from the following text:{transcript}')\n",
    "print(response.text)\n"
   ]
  },
  {
   "cell_type": "code",
   "execution_count": 39,
   "id": "66e85400-16c5-4830-9a3e-ec07fa90874e",
   "metadata": {},
   "outputs": [
    {
     "name": "stdout",
     "output_type": "stream",
     "text": [
      "The conversation centers around the impact of AI on India, particularly the opportunities for developers and the role of Google in the space. \n",
      "\n",
      "Sundar Pichai emphasizes that AI is accessible globally, including India, which has a strong developer base and is well-positioned to leverage it. He highlights the power of multimodal AI, enabling content access in any language, and the shift towards higher-level abstractions in programming. \n",
      "\n",
      "Addressing concerns about \"rapper startups\" that simply wrap AI models, Pichai clarifies that while such companies may exist, real value lies in building applications that solve real-world problems and go beyond simple model integration.\n",
      "\n",
      "He also discusses the growing role of AI in creative fields, acknowledging that \"hallucination\" is not a bug but a feature, particularly for creative endeavors. \n",
      "\n",
      "Regarding Google's cautious approach to AI deployment despite recent controversies, Pichai maintains that the company is balancing innovation with responsibility, striving for optimal progress while recognizing the need for careful development. He cites user excitement and positive feedback as key drivers for Google's continued AI advancements.\n",
      "\n",
      "Finally, the conversation touches on Sundar Pichai's personal preferences for Indian food, highlighting his regional favorites. \n",
      "\n"
     ]
    }
   ],
   "source": [
    "import google.generativeai as genai\n",
    "import os\n",
    "os.environ[\"GOOGLE_API_KEY\"] = \"your gemini api key\"\n",
    "genai.configure(api_key=os.environ[\"GOOGLE_API_KEY\"])\n",
    "\n",
    "model = genai.GenerativeModel('gemini-1.5-flash')\n",
    "response = model.generate_content(f'Generate a precise and accurate summary from the following text:{transcript}')\n",
    "print(response.text)\n"
   ]
  },
  {
   "cell_type": "code",
   "execution_count": null,
   "id": "9e3d0959-3dcd-46c4-9f0b-0af7b00e83e3",
   "metadata": {},
   "outputs": [],
   "source": []
  }
 ],
 "metadata": {
  "kernelspec": {
   "display_name": "Python 3 (ipykernel)",
   "language": "python",
   "name": "python3"
  },
  "language_info": {
   "codemirror_mode": {
    "name": "ipython",
    "version": 3
   },
   "file_extension": ".py",
   "mimetype": "text/x-python",
   "name": "python",
   "nbconvert_exporter": "python",
   "pygments_lexer": "ipython3",
   "version": "3.9.18"
  }
 },
 "nbformat": 4,
 "nbformat_minor": 5
}
