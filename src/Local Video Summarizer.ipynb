{
 "cells": [
  {
   "cell_type": "code",
   "execution_count": 11,
   "id": "224d025d-16f9-4449-9c12-df8b81f476e8",
   "metadata": {},
   "outputs": [
    {
     "name": "stdout",
     "output_type": "stream",
     "text": [
      "MoviePy - Writing audio in extracted_audio.wav\n"
     ]
    },
    {
     "name": "stderr",
     "output_type": "stream",
     "text": [
      "                                                                                                                       \r"
     ]
    },
    {
     "name": "stdout",
     "output_type": "stream",
     "text": [
      "MoviePy - Done.\n",
      "Audio extracted successfully.\n",
      "Transcript extracted successfully.\n",
      "Transcript:\n",
      " definition of opportunity don't feel your eyes with your tears it will hide and other better opportunity in front of your life take it easy make it easy\n"
     ]
    }
   ],
   "source": [
    "import os\n",
    "from moviepy.editor import VideoFileClip\n",
    "import speech_recognition as sr\n",
    "\n",
    "# Define paths\n",
    "video_path = r'C:\\Users\\Public\\Videos\\vijay.mp4'\n",
    "audio_path = 'extracted_audio.wav'\n",
    "\n",
    "# Step 1: Extract Audio from Video\n",
    "def extract_audio_from_video(video_path, audio_path):\n",
    "    video = VideoFileClip(video_path)\n",
    "    video.audio.write_audiofile(audio_path)\n",
    "    print(\"Audio extracted successfully.\")\n",
    "\n",
    "# Step 2: Convert Audio to Text\n",
    "def audio_to_text(audio_path):\n",
    "    recognizer = sr.Recognizer()\n",
    "    with sr.AudioFile(audio_path) as source:\n",
    "        audio_data = recognizer.record(source)\n",
    "        transcript = recognizer.recognize_google(audio_data)\n",
    "    return transcript\n",
    "\n",
    "# Main function to process video\n",
    "def process_video(video_path):\n",
    "    # Extract audio\n",
    "    extract_audio_from_video(video_path, audio_path)\n",
    "    \n",
    "    # Convert audio to text\n",
    "    transcript = audio_to_text(audio_path)\n",
    "    return transcript\n",
    "\n",
    "# Process the video and get the transcript\n",
    "transcript = process_video(video_path)\n",
    "print(\"Transcript extracted successfully.\")\n",
    "print(\"Transcript:\\n\", transcript)\n"
   ]
  },
  {
   "cell_type": "code",
   "execution_count": 12,
   "id": "42fb4fe2-7167-45ae-885f-3076b52d0b17",
   "metadata": {},
   "outputs": [
    {
     "name": "stdout",
     "output_type": "stream",
     "text": [
      "Summary:\n",
      " The text emphasizes the importance of remaining optimistic and proactive in the face of adversity. It advises against dwelling on misfortune, as it can obscure new opportunities. Instead, it encourages a positive outlook and a relaxed approach to finding better options. \n",
      "\n"
     ]
    }
   ],
   "source": [
    "import google.generativeai as genai\n",
    "\n",
    "# Set up environment variables and configure the API\n",
    "os.environ[\"GOOGLE_API_KEY\"] = \"Gemini API key\"\n",
    "genai.configure(api_key=os.environ[\"GOOGLE_API_KEY\"])\n",
    "\n",
    "# Generate summary from the transcript using Gemini\n",
    "model = genai.GenerativeModel('gemini-1.5-flash')\n",
    "response = model.generate_content(f'Generate a precise summary from the following text: {transcript}')\n",
    "\n",
    "print(\"Summary:\\n\",response.text)\n"
   ]
  },
  {
   "cell_type": "code",
   "execution_count": null,
   "id": "6e2a9e15-eb66-4f66-879d-38109c848a6c",
   "metadata": {},
   "outputs": [],
   "source": []
  }
 ],
 "metadata": {
  "kernelspec": {
   "display_name": "Python 3 (ipykernel)",
   "language": "python",
   "name": "python3"
  },
  "language_info": {
   "codemirror_mode": {
    "name": "ipython",
    "version": 3
   },
   "file_extension": ".py",
   "mimetype": "text/x-python",
   "name": "python",
   "nbconvert_exporter": "python",
   "pygments_lexer": "ipython3",
   "version": "3.11.9"
  }
 },
 "nbformat": 4,
 "nbformat_minor": 5
}
